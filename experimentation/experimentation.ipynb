{
 "cells": [
  {
   "cell_type": "code",
   "execution_count": 14,
   "metadata": {},
   "outputs": [],
   "source": [
    "# import dependencies\n",
    "import numpy as np\n",
    "import pandas as pd\n",
    "import os"
   ]
  },
  {
   "cell_type": "code",
   "execution_count": 16,
   "metadata": {},
   "outputs": [],
   "source": [
    "os.chdir('..')"
   ]
  },
  {
   "cell_type": "code",
   "execution_count": 17,
   "metadata": {},
   "outputs": [
    {
     "data": {
      "text/plain": [
       "'c:\\\\Users\\\\Bilal Ahmad\\\\Desktop\\\\Athena_motor_insurance'"
      ]
     },
     "execution_count": 17,
     "metadata": {},
     "output_type": "execute_result"
    }
   ],
   "source": [
    "os.getcwd()"
   ]
  },
  {
   "cell_type": "code",
   "execution_count": 18,
   "metadata": {},
   "outputs": [],
   "source": [
    "df = pd.read_csv(\"motor_insurance_dataset.csv\")"
   ]
  },
  {
   "cell_type": "code",
   "execution_count": 19,
   "metadata": {},
   "outputs": [
    {
     "data": {
      "text/html": [
       "<div>\n",
       "<style scoped>\n",
       "    .dataframe tbody tr th:only-of-type {\n",
       "        vertical-align: middle;\n",
       "    }\n",
       "\n",
       "    .dataframe tbody tr th {\n",
       "        vertical-align: top;\n",
       "    }\n",
       "\n",
       "    .dataframe thead th {\n",
       "        text-align: right;\n",
       "    }\n",
       "</style>\n",
       "<table border=\"1\" class=\"dataframe\">\n",
       "  <thead>\n",
       "    <tr style=\"text-align: right;\">\n",
       "      <th></th>\n",
       "      <th>Premium Price</th>\n",
       "      <th>Conversion</th>\n",
       "      <th>Customer Age</th>\n",
       "      <th>Customer Gender</th>\n",
       "      <th>Location</th>\n",
       "      <th>Vehicle Make</th>\n",
       "      <th>Vehicle Age</th>\n",
       "      <th>Coverage Type</th>\n",
       "      <th>Claims History</th>\n",
       "      <th>Discounts Offered</th>\n",
       "      <th>Policy Duration</th>\n",
       "      <th>Customer Loyalty</th>\n",
       "      <th>Marketing Channel</th>\n",
       "      <th>Competitor Pricing</th>\n",
       "      <th>Sales Campaigns</th>\n",
       "    </tr>\n",
       "  </thead>\n",
       "  <tbody>\n",
       "    <tr>\n",
       "      <th>0</th>\n",
       "      <td>1226</td>\n",
       "      <td>0.0</td>\n",
       "      <td>60</td>\n",
       "      <td>Other</td>\n",
       "      <td>Suburban</td>\n",
       "      <td>Chevrolet</td>\n",
       "      <td>17</td>\n",
       "      <td>Liability</td>\n",
       "      <td>0</td>\n",
       "      <td>303</td>\n",
       "      <td>12</td>\n",
       "      <td>0</td>\n",
       "      <td>Television</td>\n",
       "      <td>1281</td>\n",
       "      <td>4</td>\n",
       "    </tr>\n",
       "    <tr>\n",
       "      <th>1</th>\n",
       "      <td>960</td>\n",
       "      <td>0.0</td>\n",
       "      <td>46</td>\n",
       "      <td>Other</td>\n",
       "      <td>Urban</td>\n",
       "      <td>BMW</td>\n",
       "      <td>11</td>\n",
       "      <td>Comprehensive</td>\n",
       "      <td>2</td>\n",
       "      <td>161</td>\n",
       "      <td>12</td>\n",
       "      <td>7</td>\n",
       "      <td>Online</td>\n",
       "      <td>917</td>\n",
       "      <td>3</td>\n",
       "    </tr>\n",
       "    <tr>\n",
       "      <th>2</th>\n",
       "      <td>1394</td>\n",
       "      <td>0.0</td>\n",
       "      <td>67</td>\n",
       "      <td>Male</td>\n",
       "      <td>Urban</td>\n",
       "      <td>Honda</td>\n",
       "      <td>2</td>\n",
       "      <td>Third-Party</td>\n",
       "      <td>4</td>\n",
       "      <td>212</td>\n",
       "      <td>12</td>\n",
       "      <td>5</td>\n",
       "      <td>Social Media</td>\n",
       "      <td>1476</td>\n",
       "      <td>2</td>\n",
       "    </tr>\n",
       "    <tr>\n",
       "      <th>3</th>\n",
       "      <td>1230</td>\n",
       "      <td>0.0</td>\n",
       "      <td>19</td>\n",
       "      <td>Other</td>\n",
       "      <td>Rural</td>\n",
       "      <td>BMW</td>\n",
       "      <td>16</td>\n",
       "      <td>Third-Party</td>\n",
       "      <td>0</td>\n",
       "      <td>483</td>\n",
       "      <td>12</td>\n",
       "      <td>5</td>\n",
       "      <td>Social Media</td>\n",
       "      <td>1202</td>\n",
       "      <td>3</td>\n",
       "    </tr>\n",
       "    <tr>\n",
       "      <th>4</th>\n",
       "      <td>1195</td>\n",
       "      <td>0.0</td>\n",
       "      <td>26</td>\n",
       "      <td>Other</td>\n",
       "      <td>Urban</td>\n",
       "      <td>Chevrolet</td>\n",
       "      <td>13</td>\n",
       "      <td>Liability</td>\n",
       "      <td>1</td>\n",
       "      <td>91</td>\n",
       "      <td>6</td>\n",
       "      <td>9</td>\n",
       "      <td>Social Media</td>\n",
       "      <td>1382</td>\n",
       "      <td>2</td>\n",
       "    </tr>\n",
       "  </tbody>\n",
       "</table>\n",
       "</div>"
      ],
      "text/plain": [
       "   Premium Price  Conversion  Customer Age Customer Gender  Location  \\\n",
       "0           1226         0.0            60           Other  Suburban   \n",
       "1            960         0.0            46           Other     Urban   \n",
       "2           1394         0.0            67            Male     Urban   \n",
       "3           1230         0.0            19           Other     Rural   \n",
       "4           1195         0.0            26           Other     Urban   \n",
       "\n",
       "  Vehicle Make  Vehicle Age  Coverage Type  Claims History  Discounts Offered  \\\n",
       "0    Chevrolet           17      Liability               0                303   \n",
       "1          BMW           11  Comprehensive               2                161   \n",
       "2        Honda            2    Third-Party               4                212   \n",
       "3          BMW           16    Third-Party               0                483   \n",
       "4    Chevrolet           13      Liability               1                 91   \n",
       "\n",
       "   Policy Duration  Customer Loyalty Marketing Channel  Competitor Pricing  \\\n",
       "0               12                 0        Television                1281   \n",
       "1               12                 7            Online                 917   \n",
       "2               12                 5      Social Media                1476   \n",
       "3               12                 5      Social Media                1202   \n",
       "4                6                 9      Social Media                1382   \n",
       "\n",
       "   Sales Campaigns  \n",
       "0                4  \n",
       "1                3  \n",
       "2                2  \n",
       "3                3  \n",
       "4                2  "
      ]
     },
     "execution_count": 19,
     "metadata": {},
     "output_type": "execute_result"
    }
   ],
   "source": [
    "df.head()"
   ]
  },
  {
   "cell_type": "code",
   "execution_count": null,
   "metadata": {},
   "outputs": [],
   "source": []
  }
 ],
 "metadata": {
  "kernelspec": {
   "display_name": ".venv",
   "language": "python",
   "name": "python3"
  },
  "language_info": {
   "codemirror_mode": {
    "name": "ipython",
    "version": 3
   },
   "file_extension": ".py",
   "mimetype": "text/x-python",
   "name": "python",
   "nbconvert_exporter": "python",
   "pygments_lexer": "ipython3",
   "version": "3.12.4"
  }
 },
 "nbformat": 4,
 "nbformat_minor": 2
}
